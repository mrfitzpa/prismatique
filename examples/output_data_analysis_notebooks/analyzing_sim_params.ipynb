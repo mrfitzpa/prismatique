{
 "cells": [
  {
   "cell_type": "markdown",
   "id": "6bb7f461",
   "metadata": {},
   "source": [
    "# Analyzing the generated simulation parameters #"
   ]
  },
  {
   "cell_type": "markdown",
   "id": "5d6d9cd7",
   "metadata": {},
   "source": [
    "## A NOTE BEFORE STARTING ##"
   ]
  },
  {
   "cell_type": "markdown",
   "id": "880421e9",
   "metadata": {},
   "source": [
    "Since the ``prismatique`` git repository tracks this notebook under its original\n",
    "basename ``analyzing_sim_params.ipynb``, we recommend that you copy the original\n",
    "notebook and rename it to any other basename that is not one of the original\n",
    "basenames that appear in the ``<root>/examples`` directory before executing any\n",
    "of the notebook cells below, where ``<root>`` is the root of the ``prismatique``\n",
    "repository. This way you can explore the notebook by executing and modifying\n",
    "cells without changing the original notebook, which is being tracked by git."
   ]
  },
  {
   "cell_type": "markdown",
   "id": "e6064b86-4e86-47a6-9bb3-49f845119a22",
   "metadata": {},
   "source": [
    "## Table of contents ##"
   ]
  },
  {
   "cell_type": "markdown",
   "id": "fea20c76-1bfa-4a2d-ac29-ec2839f7cfda",
   "metadata": {},
   "source": [
    "- [Import necessary modules](#Import-necessary-modules)\n",
    "- [Introduction](#Introduction)\n",
    "- [Set paths to files storing simulation parameter sets](#Set-paths-to-files-storing-simulation-parameter-sets)\n",
    "- [Load simulation parameter sets and represent them as Python objects](#Load-simulation-parameter-sets-and-represent-them-as-Python-objects)\n",
    "- [Extracting properties that are well-defined for all three simulation parameter sets](#Extracting-properties-that-are-well-defined-for-all-three-simulation-parameter-sets)\n",
    "  - [Extract the beam defocii](#Extract-the-beam-defocii)\n",
    "  - [Extract the sample unit cell dimensions in units of $\\mathring{\\mathrm{A}}$](#Extract-the-sample-unit-cell-dimensions-in-units-of-$\\mathring{\\mathrm{A}}$)\n",
    "  - [Extract the sample supercell dimensions in units of $\\mathring{\\mathrm{A}}$](#Extract-the-sample-supercell-dimensions-in-units-of-$\\mathring{\\mathrm{A}}$)\n",
    "  - [Extract the lateral dimensions of the sample supercell in units of pixels](#Extract-the-lateral-dimensions-of-the-sample-supercell-in-units-of-pixels)\n",
    "  - [Extract the lateral pixel size of the sample supercell in units of $\\mathring{\\mathrm{A}}$](#Extract-the-lateral-pixel-size-of-the-sample-supercell-in-units-of-$\\mathring{\\mathrm{A}}$)\n",
    "  - [Extract the slice thickness of the sample supercell in units of $\\mathring{\\mathrm{A}}$](#Extract-the-slice-thickness-of-the-sample-supercell-in-units-of-$\\mathring{\\mathrm{A}}$)\n",
    "  - [Extract the number of slices used to partition the sample](#Extract-the-number-of-slices-used-to-partition-the-sample)\n",
    "  - [Extract the number of frozen phonon configuration subsets](#Extract-the-number-of-frozen-phonon-configuration-subsets)\n",
    "  - [Extract the number of frozen phonon configurations in each subset](#Extract-the-number-of-frozen-phonon-configurations-in-each-subset)\n",
    "  - [Extract the total number of frozen phonon configurations](#Extract-the-total-number-of-frozen-phonon-configurations)\n",
    "  - [Extract the data size of each subset of potential slices that one could generate according the sample model](#Extract-the-data-size-of-each-subset-of-potential-slices-that-one-could-generate-according-the-sample-model)\n",
    "  - [Extract the data size of a set of potential slices that one could generate according the sample model](#Extract-the-data-size-of-a-set-of-potential-slices-that-one-could-generate-according-the-sample-model)\n",
    "- [Extracting properties that are only well-defined for both STEM simulation parameter sets](#Extracting-properties-that-are-only-well-defined-for-both-STEM-simulation-parameter-sets)\n",
    "  - [Extract the probe scan pattern type](#Extract-the-probe-scan-pattern-type)\n",
    "  - [Extract the underlying grid dimensions of the probe scan pattern](#Extract-the-underlying-grid-dimensions-of-the-probe-scan-pattern)\n",
    "  - [Extract the probe positions](#Extract-the-probe-positions)\n",
    "  - [Extract the output layer depths](#Extract-the-output-layer-depths)\n",
    "  - [Extract the data size of the STEM simulation output datasets that one could generate according to the STEM simulation parameter sets](#Extract-the-data-size-of-the-STEM-simulation-output-datasets-that-one-could-generate-according-to-the-STEM-simulation-parameter-sets)\n",
    "- [Extracting properties that are only well-defined for the STEM simulation parameter set that specifies that the PRISM algorithm be used](#Extracting-properties-that-are-only-well-defined-for-the-STEM-simulation-parameter-set-that-specifies-that-the-PRISM-algorithm-be-used)\n",
    "  - [Extract the $\\mathbf{k}_{xy}$-momentum vectors of the plane waves to be used to generate the $S$-matrices of the STEM simulation](#Extract-the-kxy-momentum-vectors-of-the-plane-waves-to-be-used-to-generate-the-S-matrices-of-the-STEM-simulation)\n",
    "  - [Extract the data size of each subset of $S$-matrices that one could generate according the sample model](#Extract-the-data-size-of-each-subset-of-S-matrices-that-one-could-generate-according-the-sample-model)\n",
    "  - [Extract the data size of a set of $S$-matrices that one could generate according the sample model](#Extract-the-data-size-of-a-set-of-S-matrices-that-one-could-generate-according-the-sample-model)\n",
    "- [Extracting properties that are only well-defined for the HRTEM simulation parameter set](#Extracting-properties-that-are-only-well-defined-for-the-HRTEM-simulation-parameter-set)\n",
    "  - [Extract the beam tilt step size](#Extract-the-beam-tilt-step-size)\n",
    "  - [Extract the beam tilts](#Extract-the-beam-tilts)\n",
    "  - [Extract the data size of the HRTEM simulation output dataset that one could generate according to the HRTEM simulation parameter set](#Extract-the-data-size-of-the-HRTEM-simulation-output-dataset-that-one-could-generate-according-to-the-HRTEM-simulation-parameter-set)"
   ]
  },
  {
   "cell_type": "markdown",
   "id": "12b0d90e",
   "metadata": {},
   "source": [
    "## Import necessary modules ##"
   ]
  },
  {
   "cell_type": "code",
   "execution_count": 1,
   "id": "e7f9787f",
   "metadata": {},
   "outputs": [
    {
     "name": "stderr",
     "output_type": "stream",
     "text": [
      "WARNING:silx.opencl.common:Unable to import pyOpenCl. Please install it from: https://pypi.org/project/pyopencl\n"
     ]
    }
   ],
   "source": [
    "# For general array handling.\n",
    "import numpy as np\n",
    "\n",
    "\n",
    "\n",
    "# The library that is the subject of this demonstration. Users may receive a\n",
    "# warning message about ``pyopencl`` upon importing ``prismatique``. This\n",
    "# message can be safely ignored.\n",
    "import prismatique"
   ]
  },
  {
   "cell_type": "markdown",
   "id": "e667d633",
   "metadata": {},
   "source": [
    "## Introduction ##"
   ]
  },
  {
   "cell_type": "markdown",
   "id": "ec7f2509",
   "metadata": {},
   "source": [
    "In this notebook, we demonstrate how one can analyze the simulation parameter\n",
    "sets that are generated by the script\n",
    "``<root>/examples/sim_param_generator/generate.py``. Said script generates\n",
    "serialized representations of three simulation parameter sets: one for\n",
    "simulating a HRTEM experiment; and the other two for simulating a STEM\n",
    "experiment, where each simulation parameter set specifies a different algorithm\n",
    "to be used. For the current notebook to work properly, one must first generate\n",
    "the simulation parameters by running the script.\n",
    "\n",
    "In order to execute the cells in this notebook as intended, a set of Python\n",
    "libraries need to be installed in the Python environment within which the cells\n",
    "of the notebook are to be executed. For this particular notebook, users need to\n",
    "install:\n",
    "\n",
    "    pyprismatic>=2.0\n",
    "    jupyter\n",
    "    prismatique\n",
    "\n",
    "The easiest way to install these libraries is within a `conda` virtual\n",
    "environment. It is recommended that `pyprismatic` be installed separately,\n",
    "prior to installing any of the other Python libraries listed above. GPU\n",
    "acceleration is available for `pyprismatic` (and thus `prismatique`) if the\n",
    "following conditions are met:\n",
    "\n",
    "1. You are using a Linux or Windows machine that has NVIDIA GPUs.\n",
    "2. A NVIDIA driver is installed with CUDA version 10.2.89 or greater.\n",
    "\n",
    "If the above conditions have been met, and you would like to be able to use GPUs\n",
    "with `prismatique`, run the following command:\n",
    "\n",
    "    conda install -c conda-forge pyprismatic=2.*=gpu* cudatoolkit==<X>.<Y>.*\n",
    "\n",
    "where `<X>` and `<Y>` are the major and minor versions of CUDA installed on\n",
    "your machine, e.g. CUDA version 10.2.89 has a major version of `10`, and a\n",
    "minor version of `2`. Users can omit `cudatoolkit==<X>.<Y>.*` if they do not\n",
    "require a specific version of `cudatoolkit`, which should apply to most\n",
    "scenarios. For CPU support only, run the following command instead:\n",
    "\n",
    "    conda install -c conda-forge pyprismatic=2.*=cpu*\n",
    "\n",
    "Once `pyprismatic` is installed, you can install the remaining libraries via\n",
    "`pip` by running the following command:\n",
    "\n",
    "    pip install prismatique[examples]\n",
    "\n",
    "or alternatively, via `conda` by running the following command:\n",
    "\n",
    "    conda install -c conda-forge prismatique jupyter\n",
    "\n",
    "You can find the documentation for the `prismatique` library\n",
    "[here](https://mrfitzpa.github.io/prismatique/_autosummary/prismatique.html). It\n",
    "is recommended that you consult the documentation of this library as you explore\n",
    "the notebook. Moreover, users should execute the cells in the order that they\n",
    "appear, i.e. from top to bottom, as some cells reference variables that are set\n",
    "in other cells above them. **Users should make sure to navigate the\n",
    "documentation for the version of `prismatique` that they are currently using.**"
   ]
  },
  {
   "cell_type": "markdown",
   "id": "26ae26d8",
   "metadata": {},
   "source": [
    "## Set paths to files storing simulation parameter sets ##"
   ]
  },
  {
   "cell_type": "code",
   "execution_count": 2,
   "id": "cc5b1891",
   "metadata": {},
   "outputs": [],
   "source": [
    "# Path to file storing the serialized representation of the parameter set for\n",
    "# the STEM simulation implemented using the multislice algorithm.\n",
    "path_to_multislice_stem_sim_params = \\\n",
    "    \"../data/sim_param_generator_output/multislice_stem_sim_params.json\"\n",
    "\n",
    "# Path to file storing the serialized representation of the parameter set for\n",
    "# the STEM simulation implemented using the PRISM algorithm.\n",
    "path_to_prism_stem_sim_params = \\\n",
    "    \"../data/sim_param_generator_output/prism_stem_sim_params.json\"\n",
    "\n",
    "# Path to file storing the serialized representation of the parameter set for\n",
    "# the HRTEM simulation.\n",
    "path_to_hrtem_sim_params = \\\n",
    "    \"../data/sim_param_generator_output/hrtem_sim_params.json\""
   ]
  },
  {
   "cell_type": "markdown",
   "id": "59dc0520",
   "metadata": {},
   "source": [
    "## Load simulation parameter sets and represent them as Python objects ##"
   ]
  },
  {
   "cell_type": "code",
   "execution_count": 3,
   "id": "b6984113",
   "metadata": {},
   "outputs": [],
   "source": [
    "# Load serialized representation of the parameter set for the STEM simulation\n",
    "# implemented using the multislice algorithm and represent it as a Python\n",
    "# object.\n",
    "multislice_stem_sim_params = \\\n",
    "    prismatique.stem.sim.Params.load(path_to_multislice_stem_sim_params)\n",
    "\n",
    "# Load serialized representation of the parameter set for the STEM simulation\n",
    "# implemented using the PRISM algorithm and represent it as a Python object.\n",
    "prism_stem_sim_params = \\\n",
    "    prismatique.stem.sim.Params.load(path_to_prism_stem_sim_params)\n",
    "\n",
    "# Load serialized representation of the parameter set for the HRTEM simulation\n",
    "# and represent it as a Python object.\n",
    "hrtem_sim_params = \\\n",
    "    prismatique.hrtem.sim.Params.load(path_to_hrtem_sim_params)"
   ]
  },
  {
   "cell_type": "markdown",
   "id": "1a13608b",
   "metadata": {},
   "source": [
    "## Extracting properties that are well-defined for all three simulation parameter sets ##"
   ]
  },
  {
   "cell_type": "markdown",
   "id": "ccd03529",
   "metadata": {},
   "source": [
    "### Extract the sample model parameters and represent it as a Python object ###"
   ]
  },
  {
   "cell_type": "markdown",
   "id": "d543f834",
   "metadata": {},
   "source": [
    "Each simulation parameter set specifies the same sample model. We can extract\n",
    "the sample model parameters from any of the three simulation parameter sets\n",
    "above."
   ]
  },
  {
   "cell_type": "code",
   "execution_count": 4,
   "id": "ed1b60c0",
   "metadata": {},
   "outputs": [],
   "source": [
    "hrtem_system_model_params = \\\n",
    "    hrtem_sim_params.core_attrs[\"hrtem_system_model_params\"]\n",
    "sample_specification = \\\n",
    "    hrtem_system_model_params.core_attrs[\"sample_specification\"]"
   ]
  },
  {
   "cell_type": "markdown",
   "id": "858873b2",
   "metadata": {},
   "source": [
    "We make use of the object ``sample_specification`` further below to extract certain properties of the sample."
   ]
  },
  {
   "cell_type": "markdown",
   "id": "ca09964f",
   "metadata": {},
   "source": [
    "### Extract the beam defocii ###"
   ]
  },
  {
   "cell_type": "markdown",
   "id": "4ded04b4",
   "metadata": {},
   "source": [
    "Load the beam defocii specified in each simulation parameter set. Upon running a\n",
    "simulation according to a given simulation parameter set, ``prismatique`` would\n",
    "simulate a series of temporally coherent HRTEM or STEM experiments, where each\n",
    "simulated experiment would use a different beam defocus from the set of defocii\n",
    "specified in said simulation parameter set."
   ]
  },
  {
   "cell_type": "code",
   "execution_count": 5,
   "id": "81091bf9",
   "metadata": {},
   "outputs": [
    {
     "name": "stdout",
     "output_type": "stream",
     "text": [
      "defocii (in Å): (-8156.921938165306, -3999.9999999999995, 156.92193816530607)\n"
     ]
    }
   ],
   "source": [
    "# From the parameter set for the STEM simulation implemented using the\n",
    "# multislice algorithm.\n",
    "defocii = prismatique.load.defocii(path_to_multislice_stem_sim_params)\n",
    "\n",
    "unformatted_msg = \"defocii (in Å): {}\"\n",
    "msg = unformatted_msg.format(defocii)\n",
    "print(msg)"
   ]
  },
  {
   "cell_type": "code",
   "execution_count": 6,
   "id": "b1215387",
   "metadata": {},
   "outputs": [
    {
     "name": "stdout",
     "output_type": "stream",
     "text": [
      "defocii (in Å): (-8156.921938165306, -3999.9999999999995, 156.92193816530607)\n"
     ]
    }
   ],
   "source": [
    "# From the parameter set for the STEM simulation implemented using the PRISM\n",
    "# algorithm.\n",
    "defocii = prismatique.load.defocii(path_to_prism_stem_sim_params)\n",
    "\n",
    "unformatted_msg = \"defocii (in Å): {}\"\n",
    "msg = unformatted_msg.format(defocii)\n",
    "print(msg)"
   ]
  },
  {
   "cell_type": "code",
   "execution_count": 7,
   "id": "3ac6a99f",
   "metadata": {},
   "outputs": [
    {
     "name": "stdout",
     "output_type": "stream",
     "text": [
      "defocii (in Å): (-8156.921938165306, -3999.9999999999995, 156.92193816530607)\n"
     ]
    }
   ],
   "source": [
    "# From the parameter set for the HRTEM simulation.\n",
    "defocii = prismatique.load.defocii(path_to_hrtem_sim_params)\n",
    "\n",
    "unformatted_msg = \"defocii (in Å): {}\"\n",
    "msg = unformatted_msg.format(defocii)\n",
    "print(msg)"
   ]
  },
  {
   "cell_type": "markdown",
   "id": "319484db",
   "metadata": {},
   "source": [
    "### Extract the sample unit cell dimensions in units of $\\mathring{\\mathrm{A}}$ ###"
   ]
  },
  {
   "cell_type": "code",
   "execution_count": 8,
   "id": "e9774872",
   "metadata": {},
   "outputs": [
    {
     "name": "stdout",
     "output_type": "stream",
     "text": [
      "sample unit cell dimensions (in Å): (22.1228, 21.89589348896272, 15.54092)\n"
     ]
    }
   ],
   "source": [
    "sample_unit_cell_dims = prismatique.sample.unit_cell_dims(sample_specification)\n",
    "\n",
    "unformatted_msg = \"sample unit cell dimensions (in Å): {}\"\n",
    "msg = unformatted_msg.format(sample_unit_cell_dims)\n",
    "print(msg)"
   ]
  },
  {
   "cell_type": "markdown",
   "id": "46ad0a8d",
   "metadata": {},
   "source": [
    "### Extract the sample supercell dimensions in units of $\\mathring{\\mathrm{A}}$ ###"
   ]
  },
  {
   "cell_type": "code",
   "execution_count": 9,
   "id": "4585736b",
   "metadata": {},
   "outputs": [
    {
     "name": "stdout",
     "output_type": "stream",
     "text": [
      "sample supercell dimensions (in Å): (22.1228, 21.89589348896272, 15.54092)\n"
     ]
    }
   ],
   "source": [
    "sample_supercell_dims = prismatique.sample.supercell_dims(sample_specification)\n",
    "\n",
    "unformatted_msg = \"sample supercell dimensions (in Å): {}\"\n",
    "msg = unformatted_msg.format(sample_supercell_dims)\n",
    "print(msg)"
   ]
  },
  {
   "cell_type": "markdown",
   "id": "6271a6b4",
   "metadata": {},
   "source": [
    "### Extract the lateral dimensions of the sample supercell in units of pixels ###"
   ]
  },
  {
   "cell_type": "code",
   "execution_count": 10,
   "id": "09631c84",
   "metadata": {},
   "outputs": [
    {
     "name": "stdout",
     "output_type": "stream",
     "text": [
      "lateral dimensions of sample supercell (in pixels): (128, 128)\n"
     ]
    }
   ],
   "source": [
    "sample_supercell_xy_dims_in_pixels = \\\n",
    "    prismatique.sample.supercell_xy_dims_in_pixels(sample_specification)\n",
    "\n",
    "unformatted_msg = \"lateral dimensions of sample supercell (in pixels): {}\"\n",
    "msg = unformatted_msg.format(sample_supercell_xy_dims_in_pixels)\n",
    "print(msg)"
   ]
  },
  {
   "cell_type": "markdown",
   "id": "4e0878d1",
   "metadata": {},
   "source": [
    "### Extract the lateral pixel size of the sample supercell in units of $\\mathring{\\mathrm{A}}$ ###"
   ]
  },
  {
   "cell_type": "code",
   "execution_count": 11,
   "id": "bcb2d2c4",
   "metadata": {},
   "outputs": [
    {
     "name": "stdout",
     "output_type": "stream",
     "text": [
      "sample supercell lateral pixel size (in Å): (0.172834375, 0.17106166788252125)\n"
     ]
    }
   ],
   "source": [
    "sample_supercell_lateral_pixel_size = \\\n",
    "    prismatique.sample.supercell_lateral_pixel_size(sample_specification)\n",
    "\n",
    "unformatted_msg = \"sample supercell lateral pixel size (in Å): {}\"\n",
    "msg = unformatted_msg.format(sample_supercell_lateral_pixel_size)\n",
    "print(msg)"
   ]
  },
  {
   "cell_type": "markdown",
   "id": "7c37ad94",
   "metadata": {},
   "source": [
    "### Extract the slice thickness of the sample supercell in units of $\\mathring{\\mathrm{A}}$ ###"
   ]
  },
  {
   "cell_type": "code",
   "execution_count": 12,
   "id": "affc3895",
   "metadata": {},
   "outputs": [
    {
     "name": "stdout",
     "output_type": "stream",
     "text": [
      "sample supercell slice thickness (in Å): 0.9713085\n"
     ]
    }
   ],
   "source": [
    "sample_supercell_slice_thickness = \\\n",
    "    prismatique.sample.supercell_slice_thickness(sample_specification)\n",
    "\n",
    "unformatted_msg = \"sample supercell slice thickness (in Å): {}\"\n",
    "msg = unformatted_msg.format(sample_supercell_slice_thickness)\n",
    "print(msg)"
   ]
  },
  {
   "cell_type": "markdown",
   "id": "cdfeaa1e",
   "metadata": {},
   "source": [
    "### Extract the number of slices used to partition the sample ###"
   ]
  },
  {
   "cell_type": "code",
   "execution_count": 13,
   "id": "0da67b8b",
   "metadata": {},
   "outputs": [
    {
     "name": "stdout",
     "output_type": "stream",
     "text": [
      "# of sample slices: 16\n"
     ]
    }
   ],
   "source": [
    "num_slices = prismatique.sample.num_slices(sample_specification)\n",
    "\n",
    "unformatted_msg = \"# of sample slices: {}\"\n",
    "msg = unformatted_msg.format(num_slices)\n",
    "print(msg)"
   ]
  },
  {
   "cell_type": "markdown",
   "id": "d3e9b3dc",
   "metadata": {},
   "source": [
    "### Extract the number of frozen phonon configuration subsets ###"
   ]
  },
  {
   "cell_type": "code",
   "execution_count": 14,
   "id": "60236cae",
   "metadata": {},
   "outputs": [
    {
     "name": "stdout",
     "output_type": "stream",
     "text": [
      "# frozen phonon configuration subsets: 2\n"
     ]
    }
   ],
   "source": [
    "num_frozen_phonon_config_subsets = \\\n",
    "    prismatique.sample.num_frozen_phonon_config_subsets(sample_specification)\n",
    "\n",
    "unformatted_msg = \"# frozen phonon configuration subsets: {}\"\n",
    "msg = unformatted_msg.format(num_frozen_phonon_config_subsets)\n",
    "print(msg)"
   ]
  },
  {
   "cell_type": "markdown",
   "id": "e68ae4f2",
   "metadata": {},
   "source": [
    "### Extract the number of frozen phonon configurations in each subset ###"
   ]
  },
  {
   "cell_type": "code",
   "execution_count": 15,
   "id": "bbc7287f",
   "metadata": {},
   "outputs": [
    {
     "name": "stdout",
     "output_type": "stream",
     "text": [
      "# frozen phonon configurations in subset 0: 5\n",
      "# frozen phonon configurations in subset 1: 5\n"
     ]
    }
   ],
   "source": [
    "func_alias = prismatique.sample.num_frozen_phonon_configs_in_subset\n",
    "\n",
    "for subset_idx in range(num_frozen_phonon_config_subsets):\n",
    "    num_frozen_phonon_configs_in_subset = func_alias(sample_specification,\n",
    "                                                     subset_idx)\n",
    "    \n",
    "    unformatted_msg = \"# frozen phonon configurations in subset {}: {}\"\n",
    "    msg = unformatted_msg.format(subset_idx, \n",
    "                                 num_frozen_phonon_configs_in_subset)\n",
    "    print(msg)"
   ]
  },
  {
   "cell_type": "markdown",
   "id": "2da653a3",
   "metadata": {},
   "source": [
    "### Extract the total number of frozen phonon configurations ###"
   ]
  },
  {
   "cell_type": "code",
   "execution_count": 16,
   "id": "0ee7bee5",
   "metadata": {},
   "outputs": [
    {
     "name": "stdout",
     "output_type": "stream",
     "text": [
      "total # of frozen phonon configurations: 10\n"
     ]
    }
   ],
   "source": [
    "total_num_frozen_phonon_configs = \\\n",
    "    prismatique.sample.total_num_frozen_phonon_configs(sample_specification)\n",
    "\n",
    "unformatted_msg = \"total # of frozen phonon configurations: {}\"\n",
    "msg = unformatted_msg.format(total_num_frozen_phonon_configs)\n",
    "print(msg)"
   ]
  },
  {
   "cell_type": "markdown",
   "id": "df7c2c80",
   "metadata": {},
   "source": [
    "### Extract the data size of each subset of potential slices that one could generate according the sample model ###"
   ]
  },
  {
   "cell_type": "code",
   "execution_count": 17,
   "id": "981d4f4e",
   "metadata": {},
   "outputs": [
    {
     "name": "stdout",
     "output_type": "stream",
     "text": [
      "data size of potential slice subset 0 (in bytes): 5242880\n",
      "data size of potential slice subset 1 (in bytes): 5242880\n"
     ]
    }
   ],
   "source": [
    "func_alias = prismatique.sample.potential_slice_subset_data_size\n",
    "\n",
    "for subset_idx in range(num_frozen_phonon_config_subsets):\n",
    "    potential_slice_subset_data_size = func_alias(sample_specification,\n",
    "                                                  subset_idx)\n",
    "    \n",
    "    unformatted_msg = \"data size of potential slice subset {} (in bytes): {}\"\n",
    "    msg = unformatted_msg.format(subset_idx, \n",
    "                                 potential_slice_subset_data_size)\n",
    "    print(msg)"
   ]
  },
  {
   "cell_type": "markdown",
   "id": "a943b930",
   "metadata": {},
   "source": [
    "### Extract the data size of a set of potential slices that one could generate according the sample model ###"
   ]
  },
  {
   "cell_type": "code",
   "execution_count": 18,
   "id": "6eea1c13",
   "metadata": {},
   "outputs": [
    {
     "name": "stdout",
     "output_type": "stream",
     "text": [
      "data size of potential slice set (in bytes): 10485760\n"
     ]
    }
   ],
   "source": [
    "potential_slice_set_data_size = \\\n",
    "    prismatique.sample.potential_slice_set_data_size(sample_specification)\n",
    "\n",
    "unformatted_msg = \"data size of potential slice set (in bytes): {}\"\n",
    "msg = unformatted_msg.format(potential_slice_set_data_size)\n",
    "print(msg)"
   ]
  },
  {
   "cell_type": "markdown",
   "id": "b4bc9f8e",
   "metadata": {},
   "source": [
    "## Extracting properties that are only well-defined for both STEM simulation parameter sets ##"
   ]
  },
  {
   "cell_type": "markdown",
   "id": "647a8d5c",
   "metadata": {},
   "source": [
    "### Extract the probe scan pattern type ###"
   ]
  },
  {
   "cell_type": "markdown",
   "id": "9b435e2e",
   "metadata": {},
   "source": [
    "This can be done in two ways. The first method involves the use of the function\n",
    "``prismatique.load.scan_pattern_type``:"
   ]
  },
  {
   "cell_type": "code",
   "execution_count": 19,
   "id": "57f78a9c",
   "metadata": {},
   "outputs": [
    {
     "name": "stdout",
     "output_type": "stream",
     "text": [
      "scan pattern type: jittered rectangular grid\n"
     ]
    }
   ],
   "source": [
    "# From the the parameter set for the STEM simulation implemented using the\n",
    "# multislice algorithm.\n",
    "scan_pattern_type = \\\n",
    "    prismatique.load.scan_pattern_type(path_to_multislice_stem_sim_params)\n",
    "\n",
    "unformatted_msg = \"scan pattern type: {}\"\n",
    "msg = unformatted_msg.format(scan_pattern_type)\n",
    "print(msg)"
   ]
  },
  {
   "cell_type": "code",
   "execution_count": 20,
   "id": "dbb9e7cc",
   "metadata": {},
   "outputs": [
    {
     "name": "stdout",
     "output_type": "stream",
     "text": [
      "scan pattern type: jittered rectangular grid\n"
     ]
    }
   ],
   "source": [
    "# From the the parameter set for the STEM simulation implemented using the PRISM\n",
    "# algorithm.\n",
    "scan_pattern_type = \\\n",
    "    prismatique.load.scan_pattern_type(path_to_prism_stem_sim_params)\n",
    "\n",
    "unformatted_msg = \"scan pattern type: {}\"\n",
    "msg = unformatted_msg.format(scan_pattern_type)\n",
    "print(msg)"
   ]
  },
  {
   "cell_type": "markdown",
   "id": "ca9671ae",
   "metadata": {},
   "source": [
    "The second method involves the use of the function\n",
    "``prismatique.scan.pattern_type``, and the STEM system model parameters. Both\n",
    "STEM simulation parameter sets share the same STEM system model parameters,\n",
    "hence can extract the STEM system model parameters from either STEM simulation\n",
    "parameter set:"
   ]
  },
  {
   "cell_type": "code",
   "execution_count": 21,
   "id": "08cd4907",
   "metadata": {},
   "outputs": [
    {
     "name": "stdout",
     "output_type": "stream",
     "text": [
      "scan pattern type: jittered rectangular grid\n"
     ]
    }
   ],
   "source": [
    "stem_system_model_params = \\\n",
    "    multislice_stem_sim_params.core_attrs[\"stem_system_model_params\"]\n",
    "scan_config = \\\n",
    "    stem_system_model_params.core_attrs[\"scan_config\"]\n",
    "scan_pattern_type = \\\n",
    "    prismatique.scan.pattern_type(scan_config)\n",
    "\n",
    "unformatted_msg = \"scan pattern type: {}\"\n",
    "msg = unformatted_msg.format(scan_pattern_type)\n",
    "print(msg)"
   ]
  },
  {
   "cell_type": "markdown",
   "id": "0488e8a3",
   "metadata": {},
   "source": [
    "### Extract the underlying grid dimensions of the probe scan pattern ###"
   ]
  },
  {
   "cell_type": "markdown",
   "id": "0a1076ef",
   "metadata": {},
   "source": [
    "This can be done in two ways. The first method involves the use of the function\n",
    "``prismatique.load.grid_dims_in_units_of_probe_shifts``:"
   ]
  },
  {
   "cell_type": "code",
   "execution_count": 22,
   "id": "b9e37277",
   "metadata": {},
   "outputs": [
    {
     "name": "stdout",
     "output_type": "stream",
     "text": [
      "probe scan grid dimensions (in units of probe shifts): (3, 3)\n"
     ]
    }
   ],
   "source": [
    "# From the the parameter set for the STEM simulation implemented using the\n",
    "# multislice algorithm.\n",
    "func_alias = \\\n",
    "    prismatique.load.grid_dims_in_units_of_probe_shifts\n",
    "grid_dims_in_units_of_probe_shifts = \\\n",
    "    func_alias(path_to_multislice_stem_sim_params)\n",
    "\n",
    "unformatted_msg = \"probe scan grid dimensions (in units of probe shifts): {}\"\n",
    "msg = unformatted_msg.format(grid_dims_in_units_of_probe_shifts)\n",
    "print(msg)"
   ]
  },
  {
   "cell_type": "code",
   "execution_count": 23,
   "id": "6e0827fd",
   "metadata": {},
   "outputs": [
    {
     "name": "stdout",
     "output_type": "stream",
     "text": [
      "probe scan grid dimensions (in units of probe shifts): (3, 3)\n"
     ]
    }
   ],
   "source": [
    "# From the the parameter set for the STEM simulation implemented using the PRISM\n",
    "# algorithm.\n",
    "func_alias = \\\n",
    "    prismatique.load.grid_dims_in_units_of_probe_shifts\n",
    "grid_dims_in_units_of_probe_shifts = \\\n",
    "    func_alias(path_to_prism_stem_sim_params)\n",
    "\n",
    "unformatted_msg = \"probe scan grid dimensions (in units of probe shifts): {}\"\n",
    "msg = unformatted_msg.format(grid_dims_in_units_of_probe_shifts)\n",
    "print(msg)"
   ]
  },
  {
   "cell_type": "markdown",
   "id": "d93f9495",
   "metadata": {},
   "source": [
    "The second method involves the use of the function\n",
    "``prismatique.scan.grid_dims_in_units_of_probe_shifts``:"
   ]
  },
  {
   "cell_type": "code",
   "execution_count": 24,
   "id": "426969e6",
   "metadata": {},
   "outputs": [
    {
     "name": "stdout",
     "output_type": "stream",
     "text": [
      "probe scan grid dimensions (in units of probe shifts): (3, 3)\n"
     ]
    }
   ],
   "source": [
    "func_alias = \\\n",
    "    prismatique.scan.grid_dims_in_units_of_probe_shifts\n",
    "grid_dims_in_units_of_probe_shifts = \\\n",
    "    func_alias(sample_specification, scan_config)\n",
    "\n",
    "unformatted_msg = \"probe scan grid dimensions (in units of probe shifts): {}\"\n",
    "msg = unformatted_msg.format(grid_dims_in_units_of_probe_shifts)\n",
    "print(msg)"
   ]
  },
  {
   "cell_type": "markdown",
   "id": "05caf4fe",
   "metadata": {},
   "source": [
    "### Extract the probe positions ###"
   ]
  },
  {
   "cell_type": "markdown",
   "id": "7f39ff83",
   "metadata": {},
   "source": [
    "This can be done in two ways. The first method involves the use of the function\n",
    "``prismatique.load.probe_positions``:"
   ]
  },
  {
   "cell_type": "code",
   "execution_count": 25,
   "id": "912d7064",
   "metadata": {},
   "outputs": [
    {
     "name": "stdout",
     "output_type": "stream",
     "text": [
      "probe positions (in Å):\n",
      "[[ 4.85785417  5.29325906]\n",
      " [ 5.0139072  10.94690794]\n",
      " [ 5.61514736 15.35137548]\n",
      " [11.37311278  5.09270143]\n",
      " [10.25119624  9.43681506]\n",
      " [ 9.81603198 15.93636896]\n",
      " [16.49432862  5.37968288]\n",
      " [15.62138678  9.27052936]\n",
      " [15.87140464 16.31118136]]\n"
     ]
    }
   ],
   "source": [
    "# From the the parameter set for the STEM simulation implemented using the\n",
    "# multislice algorithm.\n",
    "kwargs = {\"filename\": path_to_multislice_stem_sim_params,\n",
    "          \"force_2_col_shape\": True}\n",
    "probe_positions = prismatique.load.probe_positions(**kwargs)\n",
    "\n",
    "msg = \"probe positions (in Å):\"\n",
    "print(msg)\n",
    "print(np.array(probe_positions))"
   ]
  },
  {
   "cell_type": "code",
   "execution_count": 26,
   "id": "f94fea9f",
   "metadata": {},
   "outputs": [
    {
     "name": "stdout",
     "output_type": "stream",
     "text": [
      "probe positions (in Å):\n",
      "[[ 4.85785417  5.29325906]\n",
      " [ 5.0139072  10.94690794]\n",
      " [ 5.61514736 15.35137548]\n",
      " [11.37311278  5.09270143]\n",
      " [10.25119624  9.43681506]\n",
      " [ 9.81603198 15.93636896]\n",
      " [16.49432862  5.37968288]\n",
      " [15.62138678  9.27052936]\n",
      " [15.87140464 16.31118136]]\n"
     ]
    }
   ],
   "source": [
    "# From the the parameter set for the STEM simulation implemented using the PRISM\n",
    "# algorithm.\n",
    "kwargs = {\"filename\": path_to_prism_stem_sim_params,\n",
    "          \"force_2_col_shape\": True}\n",
    "probe_positions = prismatique.load.probe_positions(**kwargs)\n",
    "\n",
    "msg = \"probe positions (in Å):\"\n",
    "print(msg)\n",
    "print(np.array(probe_positions))"
   ]
  },
  {
   "cell_type": "markdown",
   "id": "c9e98ed5",
   "metadata": {},
   "source": [
    "The second method involves the use of the function\n",
    "``prismatique.scan.generate_probe_positions``:"
   ]
  },
  {
   "cell_type": "code",
   "execution_count": 27,
   "id": "03f11308",
   "metadata": {},
   "outputs": [
    {
     "name": "stdout",
     "output_type": "stream",
     "text": [
      "probe positions (in Å):\n",
      "[[ 4.85785417  5.29325906]\n",
      " [ 5.0139072  10.94690794]\n",
      " [ 5.61514736 15.35137548]\n",
      " [11.37311278  5.09270143]\n",
      " [10.25119624  9.43681506]\n",
      " [ 9.81603198 15.93636896]\n",
      " [16.49432862  5.37968288]\n",
      " [15.62138678  9.27052936]\n",
      " [15.87140464 16.31118136]]\n"
     ]
    }
   ],
   "source": [
    "kwargs = {\"sample_specification\": sample_specification,\n",
    "          \"scan_config\": scan_config,\n",
    "          \"filename\": None}\n",
    "probe_positions = prismatique.scan.generate_probe_positions(**kwargs)\n",
    "\n",
    "msg = \"probe positions (in Å):\"\n",
    "print(msg)\n",
    "print(np.array(probe_positions))"
   ]
  },
  {
   "cell_type": "markdown",
   "id": "49759741",
   "metadata": {},
   "source": [
    "### Extract the output layer depths ###"
   ]
  },
  {
   "cell_type": "markdown",
   "id": "f26391bf",
   "metadata": {},
   "source": [
    "This can be done in two ways. The first method involves the use of the function\n",
    "``prismatique.load.output_layer_depths``:"
   ]
  },
  {
   "cell_type": "code",
   "execution_count": 28,
   "id": "ef0f3687",
   "metadata": {},
   "outputs": [
    {
     "name": "stdout",
     "output_type": "stream",
     "text": [
      "output layer depths (in Å): (3.885234, 7.770468, 11.655702, 15.54092)\n"
     ]
    }
   ],
   "source": [
    "# From the the parameter set for the STEM simulation implemented using the\n",
    "# multislice algorithm.\n",
    "output_layer_depths = \\\n",
    "    prismatique.load.output_layer_depths(path_to_multislice_stem_sim_params)\n",
    "\n",
    "unformatted_msg = \"output layer depths (in Å): {}\"\n",
    "msg = unformatted_msg.format(output_layer_depths)\n",
    "print(msg)"
   ]
  },
  {
   "cell_type": "code",
   "execution_count": 29,
   "id": "a94a7300",
   "metadata": {},
   "outputs": [
    {
     "name": "stdout",
     "output_type": "stream",
     "text": [
      "output layer depths (in Å): (15.54092,)\n"
     ]
    }
   ],
   "source": [
    "# From the the parameter set for the STEM simulation implemented using the\n",
    "# PRISM algorithm.\n",
    "output_layer_depths = \\\n",
    "    prismatique.load.output_layer_depths(path_to_prism_stem_sim_params)\n",
    "\n",
    "unformatted_msg = \"output layer depths (in Å): {}\"\n",
    "msg = unformatted_msg.format(output_layer_depths)\n",
    "print(msg)"
   ]
  },
  {
   "cell_type": "markdown",
   "id": "98d25016",
   "metadata": {},
   "source": [
    "The second method involves the use of the function\n",
    "``prismatique.stem.output.layer_depths``:"
   ]
  },
  {
   "cell_type": "code",
   "execution_count": 30,
   "id": "6756187e",
   "metadata": {},
   "outputs": [
    {
     "name": "stdout",
     "output_type": "stream",
     "text": [
      "output layer depths (in Å): (3.885234, 7.770468, 11.655702, 15.54092)\n"
     ]
    }
   ],
   "source": [
    "# From the the parameter set for the STEM simulation implemented using the\n",
    "# multislice algorithm.\n",
    "output_params = multislice_stem_sim_params.core_attrs[\"output_params\"]\n",
    "alg_specific_output_params = output_params.core_attrs[\"alg_specific_params\"]\n",
    "\n",
    "kwargs = {\"sample_specification\": sample_specification,\n",
    "          \"alg_specific_params\": alg_specific_output_params}\n",
    "output_layer_depths = prismatique.stem.output.layer_depths(**kwargs)\n",
    "\n",
    "unformatted_msg = \"output layer depths (in Å): {}\"\n",
    "msg = unformatted_msg.format(output_layer_depths)\n",
    "print(msg)"
   ]
  },
  {
   "cell_type": "code",
   "execution_count": 31,
   "id": "ab10eb56",
   "metadata": {},
   "outputs": [
    {
     "name": "stdout",
     "output_type": "stream",
     "text": [
      "output layer depths (in Å): (15.54092,)\n"
     ]
    }
   ],
   "source": [
    "# From the the parameter set for the STEM simulation implemented using the PRISM\n",
    "# algorithm.\n",
    "output_params = prism_stem_sim_params.core_attrs[\"output_params\"]\n",
    "alg_specific_output_params = output_params.core_attrs[\"alg_specific_params\"]\n",
    "\n",
    "kwargs = {\"sample_specification\": sample_specification,\n",
    "          \"alg_specific_params\": alg_specific_output_params}\n",
    "output_layer_depths = prismatique.stem.output.layer_depths(**kwargs)\n",
    "\n",
    "unformatted_msg = \"output layer depths (in Å): {}\"\n",
    "msg = unformatted_msg.format(output_layer_depths)\n",
    "print(msg)"
   ]
  },
  {
   "cell_type": "markdown",
   "id": "c185d401",
   "metadata": {},
   "source": [
    "### Extract the data size of the STEM simulation output datasets that one could generate according to the STEM simulation parameter sets ###"
   ]
  },
  {
   "cell_type": "code",
   "execution_count": 32,
   "id": "17f29343",
   "metadata": {},
   "outputs": [
    {
     "name": "stdout",
     "output_type": "stream",
     "text": [
      "data size of STEM simulation output (in bytes): 35442864\n"
     ]
    }
   ],
   "source": [
    "# From the the parameter set for the STEM simulation implemented using the\n",
    "# multislice algorithm.\n",
    "output_params = multislice_stem_sim_params.core_attrs[\"output_params\"]\n",
    "kwargs = {\"stem_system_model_params\": stem_system_model_params,\n",
    "          \"output_params\": output_params}\n",
    "stem_output_data_size = prismatique.stem.output.data_size(**kwargs)\n",
    "\n",
    "unformatted_msg = \"data size of STEM simulation output (in bytes): {}\"\n",
    "msg = unformatted_msg.format(stem_output_data_size)\n",
    "print(msg)"
   ]
  },
  {
   "cell_type": "code",
   "execution_count": 33,
   "id": "1a9edeb6",
   "metadata": {},
   "outputs": [
    {
     "name": "stdout",
     "output_type": "stream",
     "text": [
      "data size of STEM simulation output (in bytes): 8860716\n"
     ]
    }
   ],
   "source": [
    "# From the the parameter set for the STEM simulation implemented using the PRISM\n",
    "# algorithm.\n",
    "output_params = prism_stem_sim_params.core_attrs[\"output_params\"]\n",
    "kwargs = {\"stem_system_model_params\": stem_system_model_params,\n",
    "          \"output_params\": output_params}\n",
    "stem_output_data_size = prismatique.stem.output.data_size(**kwargs)\n",
    "\n",
    "unformatted_msg = \"data size of STEM simulation output (in bytes): {}\"\n",
    "msg = unformatted_msg.format(stem_output_data_size)\n",
    "print(msg)"
   ]
  },
  {
   "cell_type": "markdown",
   "id": "e2ce7aa5",
   "metadata": {},
   "source": [
    "## Extracting properties that are only well-defined for the STEM simulation parameter set that specifies that the PRISM algorithm be used ##"
   ]
  },
  {
   "cell_type": "markdown",
   "id": "7647469a",
   "metadata": {},
   "source": [
    "### Extract the $\\mathbf{k}_{xy}$-momentum vectors of the plane waves to be used to generate the $S$-matrices of the STEM simulation ###"
   ]
  },
  {
   "cell_type": "markdown",
   "id": "094d5500",
   "metadata": {},
   "source": [
    "This can be done in two ways. The first method involves the use of the function\n",
    "``prismatique.load.S_matrix_k_xy_vectors``:"
   ]
  },
  {
   "cell_type": "code",
   "execution_count": 34,
   "id": "32d68232",
   "metadata": {},
   "outputs": [
    {
     "name": "stdout",
     "output_type": "stream",
     "text": [
      "S-matrix k_xy vectors (in 1/Å):\n",
      "[[ 0.          0.        ]\n",
      " [ 0.          0.04567066]\n",
      " [ 0.         -0.04567066]\n",
      " [ 0.04520223  0.        ]\n",
      " [ 0.04520223  0.04567066]\n",
      " [ 0.04520223 -0.04567066]\n",
      " [-0.04520223  0.        ]\n",
      " [-0.04520223  0.04567066]\n",
      " [-0.04520223 -0.04567066]]\n"
     ]
    }
   ],
   "source": [
    "S_matrix_k_xy_vectors = \\\n",
    "    prismatique.load.S_matrix_k_xy_vectors(path_to_prism_stem_sim_params)\n",
    "\n",
    "msg = \"S-matrix k_xy vectors (in 1/Å):\"\n",
    "print(msg)\n",
    "print(np.array(S_matrix_k_xy_vectors))"
   ]
  },
  {
   "cell_type": "markdown",
   "id": "5e145888",
   "metadata": {},
   "source": [
    "The second method involves the use of the function\n",
    "``prismatique.sample.S_matrix_k_xy_vectors``."
   ]
  },
  {
   "cell_type": "code",
   "execution_count": 35,
   "id": "cebf9163",
   "metadata": {},
   "outputs": [
    {
     "name": "stdout",
     "output_type": "stream",
     "text": [
      "S-matrix k_xy vectors (in 1/Å):\n",
      "[[ 0.          0.        ]\n",
      " [ 0.          0.04567066]\n",
      " [ 0.         -0.04567066]\n",
      " [ 0.04520223  0.        ]\n",
      " [ 0.04520223  0.04567066]\n",
      " [ 0.04520223 -0.04567066]\n",
      " [-0.04520223  0.        ]\n",
      " [-0.04520223  0.04567066]\n",
      " [-0.04520223 -0.04567066]]\n"
     ]
    }
   ],
   "source": [
    "probe_model_params = stem_system_model_params.core_attrs[\"probe_model_params\"]\n",
    "\n",
    "kwargs = {\"sample_specification\": sample_specification,\n",
    "          \"probe_model_params\": probe_model_params}\n",
    "S_matrix_k_xy_vectors = prismatique.sample.S_matrix_k_xy_vectors(**kwargs)\n",
    "\n",
    "msg = \"S-matrix k_xy vectors (in 1/Å):\"\n",
    "print(msg)\n",
    "print(np.array(S_matrix_k_xy_vectors))"
   ]
  },
  {
   "cell_type": "markdown",
   "id": "50e6d104",
   "metadata": {},
   "source": [
    "### Extract the data size of each subset of $S$-matrices that one could generate according the sample model ###"
   ]
  },
  {
   "cell_type": "code",
   "execution_count": 36,
   "id": "95f20620",
   "metadata": {},
   "outputs": [
    {
     "name": "stdout",
     "output_type": "stream",
     "text": [
      "data size of S-matrix subset 0 (in bytes): 1474560\n",
      "data size of S-matrix subset 1 (in bytes): 1474560\n"
     ]
    }
   ],
   "source": [
    "func_alias = prismatique.sample.S_matrix_subset_data_size\n",
    "\n",
    "for subset_idx in range(num_frozen_phonon_config_subsets):\n",
    "    kwargs = {\"sample_specification\": sample_specification,\n",
    "              \"probe_model_params\": probe_model_params,\n",
    "              \"subset_idx\": subset_idx}\n",
    "    S_matrix_subset_data_size = func_alias(sample_specification,\n",
    "                                           probe_model_params,\n",
    "                                           subset_idx)\n",
    "    \n",
    "    unformatted_msg = \"data size of S-matrix subset {} (in bytes): {}\"\n",
    "    msg = unformatted_msg.format(subset_idx, S_matrix_subset_data_size)\n",
    "    print(msg)"
   ]
  },
  {
   "cell_type": "markdown",
   "id": "3b395b0e",
   "metadata": {},
   "source": [
    "### Extract the data size of a set of $S$-matrices that one could generate according the sample model ###"
   ]
  },
  {
   "cell_type": "code",
   "execution_count": 37,
   "id": "49297f59",
   "metadata": {},
   "outputs": [
    {
     "name": "stdout",
     "output_type": "stream",
     "text": [
      "data size of S-matrix set (in bytes): 2949120\n"
     ]
    }
   ],
   "source": [
    "kwargs = {\"sample_specification\": sample_specification,\n",
    "          \"probe_model_params\": probe_model_params}\n",
    "S_matrix_set_data_size = prismatique.sample.S_matrix_set_data_size(**kwargs)\n",
    "\n",
    "unformatted_msg = \"data size of S-matrix set (in bytes): {}\"\n",
    "msg = unformatted_msg.format(S_matrix_set_data_size)\n",
    "print(msg)"
   ]
  },
  {
   "cell_type": "markdown",
   "id": "8d8b74ab",
   "metadata": {},
   "source": [
    "## Extracting properties that are only well-defined for the HRTEM simulation parameter set ##"
   ]
  },
  {
   "cell_type": "markdown",
   "id": "32945bea",
   "metadata": {},
   "source": [
    "### Extract the beam tilt step size ###"
   ]
  },
  {
   "cell_type": "code",
   "execution_count": 38,
   "id": "80ce5cc2",
   "metadata": {},
   "outputs": [
    {
     "name": "stdout",
     "output_type": "stream",
     "text": [
      "beam tilt step size (in mrads): (3.882198896562731, 3.922430011461781)\n"
     ]
    }
   ],
   "source": [
    "gun_model_params = hrtem_system_model_params.core_attrs[\"gun_model_params\"]\n",
    "mean_beam_energy = gun_model_params.core_attrs[\"mean_beam_energy\"]\n",
    "\n",
    "beam_tilt_step_size = prismatique.tilt.step_size(sample_specification,\n",
    "                                                 mean_beam_energy)\n",
    "\n",
    "unformatted_msg = \"beam tilt step size (in mrads): {}\"\n",
    "msg = unformatted_msg.format(beam_tilt_step_size)\n",
    "print(msg)"
   ]
  },
  {
   "cell_type": "markdown",
   "id": "095cbefd",
   "metadata": {},
   "source": [
    "### Extract the beam tilts ###"
   ]
  },
  {
   "cell_type": "markdown",
   "id": "f584da4d",
   "metadata": {},
   "source": [
    "This can be done in two ways. The first method involves the use of the function\n",
    "``prismatique.load.hrtem_beam_tilts``:"
   ]
  },
  {
   "cell_type": "code",
   "execution_count": 39,
   "id": "e8ddb346",
   "metadata": {},
   "outputs": [
    {
     "name": "stdout",
     "output_type": "stream",
     "text": [
      "beam tilts (in mrads):\n",
      "[[-7.76439779 -3.92243001]\n",
      " [-7.76439779  0.        ]\n",
      " [-7.76439779  3.92243001]\n",
      " [-3.8821989  -7.84486002]\n",
      " [-3.8821989  -3.92243001]\n",
      " [-3.8821989   0.        ]\n",
      " [-3.8821989   3.92243001]\n",
      " [-3.8821989   7.84486002]\n",
      " [ 0.         -7.84486002]\n",
      " [ 0.         -3.92243001]\n",
      " [ 0.          0.        ]\n",
      " [ 0.          3.92243001]\n",
      " [ 0.          7.84486002]\n",
      " [ 3.8821989  -7.84486002]\n",
      " [ 3.8821989  -3.92243001]\n",
      " [ 3.8821989   0.        ]\n",
      " [ 3.8821989   3.92243001]\n",
      " [ 3.8821989   7.84486002]\n",
      " [ 7.76439779 -3.92243001]\n",
      " [ 7.76439779  0.        ]\n",
      " [ 7.76439779  3.92243001]]\n"
     ]
    }
   ],
   "source": [
    "beam_tilts = prismatique.load.hrtem_beam_tilts(path_to_hrtem_sim_params)\n",
    "\n",
    "msg = \"beam tilts (in mrads):\"\n",
    "print(msg)\n",
    "print(np.array(beam_tilts))"
   ]
  },
  {
   "cell_type": "markdown",
   "id": "58334a73",
   "metadata": {},
   "source": [
    "The second method involves the use of the function ``prismatique.tilt.series``."
   ]
  },
  {
   "cell_type": "code",
   "execution_count": 40,
   "id": "5942b7d6",
   "metadata": {},
   "outputs": [
    {
     "name": "stdout",
     "output_type": "stream",
     "text": [
      "beam tilt series (in mrads):\n",
      "[[-7.76439779 -3.92243001]\n",
      " [-7.76439779  0.        ]\n",
      " [-7.76439779  3.92243001]\n",
      " [-3.8821989  -7.84486002]\n",
      " [-3.8821989  -3.92243001]\n",
      " [-3.8821989   0.        ]\n",
      " [-3.8821989   3.92243001]\n",
      " [-3.8821989   7.84486002]\n",
      " [ 0.         -7.84486002]\n",
      " [ 0.         -3.92243001]\n",
      " [ 0.          0.        ]\n",
      " [ 0.          3.92243001]\n",
      " [ 0.          7.84486002]\n",
      " [ 3.8821989  -7.84486002]\n",
      " [ 3.8821989  -3.92243001]\n",
      " [ 3.8821989   0.        ]\n",
      " [ 3.8821989   3.92243001]\n",
      " [ 3.8821989   7.84486002]\n",
      " [ 7.76439779 -3.92243001]\n",
      " [ 7.76439779  0.        ]\n",
      " [ 7.76439779  3.92243001]]\n"
     ]
    }
   ],
   "source": [
    "tilt_params = hrtem_system_model_params.core_attrs[\"tilt_params\"]\n",
    "\n",
    "beam_tilt_series = prismatique.tilt.series(sample_specification,\n",
    "                                           mean_beam_energy, \n",
    "                                           tilt_params)\n",
    "\n",
    "msg = \"beam tilt series (in mrads):\"\n",
    "print(msg)\n",
    "print(np.array(beam_tilt_series))"
   ]
  },
  {
   "cell_type": "markdown",
   "id": "cdcf1c01",
   "metadata": {},
   "source": [
    "### Extract the data size of the HRTEM simulation output dataset that one could generate according to the HRTEM simulation parameter set ###"
   ]
  },
  {
   "cell_type": "code",
   "execution_count": 41,
   "id": "afc7a01e",
   "metadata": {},
   "outputs": [
    {
     "name": "stdout",
     "output_type": "stream",
     "text": [
      "data size of HRTEM simulation output (in bytes): 20647936\n"
     ]
    }
   ],
   "source": [
    "output_params = hrtem_sim_params.core_attrs[\"output_params\"]\n",
    "kwargs = {\"hrtem_system_model_params\": hrtem_system_model_params,\n",
    "          \"output_params\": output_params}\n",
    "hrtem_output_data_size = prismatique.hrtem.output.data_size(**kwargs)\n",
    "\n",
    "unformatted_msg = \"data size of HRTEM simulation output (in bytes): {}\"\n",
    "msg = unformatted_msg.format(hrtem_output_data_size)\n",
    "print(msg)"
   ]
  }
 ],
 "metadata": {
  "kernelspec": {
   "display_name": "Python 3 (ipykernel)",
   "language": "python",
   "name": "python3"
  },
  "language_info": {
   "codemirror_mode": {
    "name": "ipython",
    "version": 3
   },
   "file_extension": ".py",
   "mimetype": "text/x-python",
   "name": "python",
   "nbconvert_exporter": "python",
   "pygments_lexer": "ipython3",
   "version": "3.12.0"
  }
 },
 "nbformat": 4,
 "nbformat_minor": 5
}
